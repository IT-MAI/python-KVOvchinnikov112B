{
 "cells": [
  {
   "cell_type": "markdown",
   "id": "85755de8",
   "metadata": {},
   "source": [
    "# Самостоятельное задание #5\n",
    "\n",
    "\n",
    "### Задание 1\n",
    "\n",
    "Допишите функцию, которая принимает список, выбирает из него все элементы с четным индексом и возвращает их в виде списка."
   ]
  },
  {
   "cell_type": "code",
   "execution_count": 10,
   "id": "6ef6d9b3",
   "metadata": {
    "scrolled": true
   },
   "outputs": [
    {
     "name": "stdout",
     "output_type": "stream",
     "text": [
      "Введите количество членов массива\n",
      "6\n",
      "tadgaa\n",
      "tawfasda\n",
      "tat\n",
      "35\n",
      "ur\n",
      "amogus\n",
      "['tadgaa', 'tat', 'ur']\n"
     ]
    }
   ],
   "source": [
    "j = 0\n",
    "print('Введите количество членов массива')\n",
    "n = int(input())\n",
    "inp = ['']*n\n",
    "out = [\"\"]*((n//2)+1)\n",
    "for i in range(0,n):\n",
    "    inp[i] = str(input())\n",
    "\n",
    "for i in range(n):\n",
    "    if i%2 == 0:\n",
    "        out[j] = inp[i]\n",
    "        j += 1\n",
    "print(out)\n",
    "\n",
    "# нумерация идёт с нуля, ноль чётный                                                                                                                                                                                                                                                                                                                       "
   ]
  },
  {
   "cell_type": "markdown",
   "id": "b565fd05",
   "metadata": {},
   "source": [
    "### Задание 2\n",
    "\n",
    "Допишите функцию, которая принимает список, выбирает из него все элементы, которые больше предыдущего и возвращает их в виде списка.\n"
   ]
  },
  {
   "cell_type": "code",
   "execution_count": 15,
   "id": "3a8cf925",
   "metadata": {},
   "outputs": [
    {
     "name": "stdout",
     "output_type": "stream",
     "text": [
      "Введите количество членов массива\n",
      "4\n",
      "67\n",
      "5\n",
      "65\n",
      "89\n",
      "[67, 65, 89]\n"
     ]
    }
   ],
   "source": [
    "j = 0\n",
    "print('Введите количество членов массива')\n",
    "n = int(input())\n",
    "inp = [0]*n\n",
    "out = [0]*((n//2)+1)\n",
    "for i in range(0,n):\n",
    "    inp[i] = int(input())\n",
    "\n",
    "for i in range(n):\n",
    "    if inp[i-1]<inp[i]: \n",
    "        out[j] = inp[i]\n",
    "        j += 1\n",
    "        \n",
    "print(out)"
   ]
  },
  {
   "cell_type": "markdown",
   "id": "34524ede",
   "metadata": {},
   "source": [
    "### Задание 3\n",
    "\n",
    "Допишите функцию, которая принимает список, меняет местами наибольший и наименьший элементы и возвращает этот список."
   ]
  },
  {
   "cell_type": "code",
   "execution_count": 26,
   "id": "34d2beae",
   "metadata": {},
   "outputs": [
    {
     "name": "stdout",
     "output_type": "stream",
     "text": [
      "Введите количество членов массива\n",
      "3\n",
      "521\n",
      "6\n",
      "256\n",
      "1\n",
      "0\n",
      "[6, 521, 256]\n"
     ]
    }
   ],
   "source": [
    "j = 0\n",
    "minimp = 1000\n",
    "maximp = 0\n",
    "print('Введите количество членов массива')\n",
    "n = int(input())\n",
    "inp = [0]*n\n",
    "out = [0]*((n//2)+1)\n",
    "for i in range(0,n):\n",
    "    inp[i] = int(input())\n",
    "\n",
    "for i in range(0,n):\n",
    "    if inp[i]<minimp:\n",
    "        mini = i\n",
    "        minimp = inp[i]\n",
    "\n",
    "for i in range(0,n):\n",
    "    if inp[i]>maximp:\n",
    "        maxi = i\n",
    "        maximp = inp[i]\n",
    "\n",
    "print(mini)\n",
    "print(maxi)\n",
    "buff = inp[maxi]\n",
    "inp[maxi] = inp[mini]\n",
    "inp[mini] = buff\n",
    "\n",
    "\n",
    "\n",
    "    \n",
    "print(inp)"
   ]
  },
  {
   "cell_type": "code",
   "execution_count": null,
   "id": "22458b31",
   "metadata": {},
   "outputs": [],
   "source": []
  },
  {
   "cell_type": "code",
   "execution_count": null,
   "id": "a31b30c1",
   "metadata": {},
   "outputs": [],
   "source": []
  }
 ],
 "metadata": {
  "kernelspec": {
   "display_name": "Python 3 (ipykernel)",
   "language": "python",
   "name": "python3"
  },
  "language_info": {
   "codemirror_mode": {
    "name": "ipython",
    "version": 3
   },
   "file_extension": ".py",
   "mimetype": "text/x-python",
   "name": "python",
   "nbconvert_exporter": "python",
   "pygments_lexer": "ipython3",
   "version": "3.8.10"
  }
 },
 "nbformat": 4,
 "nbformat_minor": 5
}
