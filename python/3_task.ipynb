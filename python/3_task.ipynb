{
 "cells": [
  {
   "cell_type": "markdown",
   "id": "657be689",
   "metadata": {},
   "source": [
    "# Самостоятельное задание #3\n",
    "\n",
    "\n",
    "### Задание 1\n",
    "\n",
    "Допишите функцию, которая принимает массив из 10 чисел и возвращает их сумму."
   ]
  },
  {
   "cell_type": "code",
   "execution_count": 7,
   "id": "43e64274",
   "metadata": {},
   "outputs": [
    {
     "name": "stdout",
     "output_type": "stream",
     "text": [
      "1\n",
      "1\n",
      "1\n",
      "1\n",
      "1\n",
      "1\n",
      "1\n",
      "1\n",
      "1\n",
      "1\n",
      "10\n"
     ]
    }
   ],
   "source": [
    "S = 0\n",
    "a = [0] * 10\n",
    "for i in range(len(a)):\n",
    "    a[i] = int(input())\n",
    "    \n",
    "for i in range(len(a)):\n",
    "    S = int(S + a[i])\n",
    "    \n",
    "print(S)"
   ]
  },
  {
   "cell_type": "markdown",
   "id": "eb78afc0",
   "metadata": {},
   "source": [
    "\n",
    "### Задание 2\n",
    "\n",
    "Допишите функцию, которая принимает массив чисел и возвращает количество чисел равных нулю."
   ]
  },
  {
   "cell_type": "code",
   "execution_count": 13,
   "id": "7e8fe536",
   "metadata": {},
   "outputs": [
    {
     "name": "stdout",
     "output_type": "stream",
     "text": [
      "2\n",
      "0\n",
      "0\n",
      "0\n",
      "0\n",
      "0\n",
      "0\n",
      "0\n",
      "0\n",
      "0\n",
      "9\n"
     ]
    }
   ],
   "source": [
    "S = 0\n",
    "a = [0] * 10\n",
    "for i in range(len(a)):\n",
    "    a[i] = int(input())\n",
    "    \n",
    "for i in range(len(a)):\n",
    "    if a[i] == 0:\n",
    "        S+=1\n",
    "    \n",
    "print(S)"
   ]
  },
  {
   "cell_type": "markdown",
   "id": "570d5a26",
   "metadata": {},
   "source": [
    "\n",
    "### Задание 3\n",
    "\n",
    "Напишите программу, в которой задается  натуральное число n и выводится лестница из n ступенек, i-я ступенька должна состоять из чисел от 1 до i без пробелов."
   ]
  },
  {
   "cell_type": "code",
   "execution_count": 19,
   "id": "69fd0501",
   "metadata": {},
   "outputs": [
    {
     "name": "stdout",
     "output_type": "stream",
     "text": [
      "6\n",
      "1\n",
      "12\n",
      "123\n",
      "1234\n",
      "12345\n",
      "123456\n"
     ]
    }
   ],
   "source": [
    "n = int(input())\n",
    "a = \"\"\n",
    "i = 1\n",
    "for i in range(n):\n",
    "    a = a + str(i+1)\n",
    "    print(a)\n",
    "    \n",
    "    \n",
    "    \n",
    "    "
   ]
  },
  {
   "cell_type": "markdown",
   "id": "b6ef1c44",
   "metadata": {},
   "source": [
    "\n",
    "### Задание 4\n",
    "\n",
    "Напишите программу, в которой задается натуральное число n и выводится пирамида из n ступенек, i-я ступень должна состоять из чисел от 1 до i и обратно без пробелов."
   ]
  },
  {
   "cell_type": "code",
   "execution_count": 2,
   "id": "6b038f87",
   "metadata": {},
   "outputs": [
    {
     "name": "stdout",
     "output_type": "stream",
     "text": [
      "4\n",
      "    1\n",
      "   121\n",
      "  12321\n",
      " 1234321\n"
     ]
    }
   ],
   "source": [
    "help = [\"\"]*100\n",
    "a = \"\"\n",
    "i = 1\n",
    "n = int(input())\n",
    "for i in range(1,n+1): \n",
    "    if i == 0:\n",
    "        i = 1\n",
    "    b = a \n",
    "    a = a + str(i) \n",
    "    \n",
    "    help = sorted(list(a), reverse=True)\n",
    "    for j in range(i):\n",
    "        b += help [j]\n",
    "    print(\" \"*(n-i),b)   \n",
    "    "
   ]
  },
  {
   "cell_type": "markdown",
   "id": "b4552ef5",
   "metadata": {},
   "source": [
    "\n",
    "### Задание 5\n",
    "\n",
    "Напишите программу, в которой задается натуральное число n и выводится ромб из `n*2-1` ступенек, i-я ступень должна состоять из чисел от 1 до i и обратно без пробелов."
   ]
  },
  {
   "cell_type": "code",
   "execution_count": 8,
   "id": "5eaae897",
   "metadata": {},
   "outputs": [
    {
     "name": "stdout",
     "output_type": "stream",
     "text": [
      "9\n",
      "         1\n",
      "        121\n",
      "       12321\n",
      "      1234321\n",
      "     123454321\n",
      "    12345654321\n",
      "   1234567654321\n",
      "  123456787654321\n",
      " 12345678987654321\n",
      "  123456787654321\n",
      "   1234567654321\n",
      "    12345654321\n",
      "     123454321\n",
      "      1234321\n",
      "       12321\n",
      "        121\n",
      "         1\n"
     ]
    }
   ],
   "source": [
    "help = [\"\"]*100 # массив вывода пирамидки\n",
    "a = \"\"\n",
    "i = 1\n",
    "k = 1\n",
    "n = int(input())\n",
    "for i in range(1,n+1): #первые в  ромбе, первая пирамидка\n",
    "    if i == 0:\n",
    "        i = 1\n",
    "    b = a #здесь сохраняем от 1 до i-1 чтобы потом развернуть\n",
    "    a = a + str(i) #с каждым проходом добавляет по цифре\n",
    "    \n",
    "    help = sorted(list(a), reverse=True) #разворот массива \n",
    "    for j in range(i):\n",
    "        b += help [j]\n",
    "    print(\" \"*(n-i),b) #вывод c пробелами\n",
    "\n",
    "c = list(b)\n",
    "a=\"\"\n",
    "f=\"\" #вводим массив для обратной пирамидки\n",
    "help = [\"\"]*100 \n",
    "\n",
    "for i in range (n, 1, -1):\n",
    "    while c.count(str(i)) != 0: #считает количество элементов равных i\n",
    "        c.remove(str(i)) #удаляет все совпадения\n",
    "    c.remove(str(i-1))  \n",
    "    for i in range(len(c)):\n",
    "        f +=c[i] #собсна вывод\n",
    "        \n",
    "    print(\" \"*k,f)\n",
    "    k+=1\n",
    "    f = \"\"\n",
    "\n"
   ]
  },
  {
   "cell_type": "code",
   "execution_count": null,
   "id": "06014982",
   "metadata": {},
   "outputs": [],
   "source": []
  },
  {
   "cell_type": "code",
   "execution_count": null,
   "id": "3e71691c",
   "metadata": {},
   "outputs": [],
   "source": []
  }
 ],
 "metadata": {
  "kernelspec": {
   "display_name": "Python 3 (ipykernel)",
   "language": "python",
   "name": "python3"
  },
  "language_info": {
   "codemirror_mode": {
    "name": "ipython",
    "version": 3
   },
   "file_extension": ".py",
   "mimetype": "text/x-python",
   "name": "python",
   "nbconvert_exporter": "python",
   "pygments_lexer": "ipython3",
   "version": "3.8.10"
  }
 },
 "nbformat": 4,
 "nbformat_minor": 5
}
